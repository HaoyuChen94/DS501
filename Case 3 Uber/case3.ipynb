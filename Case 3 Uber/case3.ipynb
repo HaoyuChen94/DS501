{
 "cells": [
  {
   "cell_type": "markdown",
   "metadata": {},
   "source": [
    "# Case Study 3 : Data Science in NYC Taxi and Uber Data"
   ]
  },
  {
   "cell_type": "markdown",
   "metadata": {},
   "source": [
    "**Required Readings:** \n",
    "* [Analyzing 1.1 Billion NYC Taxi and Uber Trips](http://toddwschneider.com/posts/analyzing-1-1-billion-nyc-taxi-and-uber-trips-with-a-vengeance/) \n",
    "* Please download the NYC taxi and Uber dataset from [here](https://github.com/toddwschneider/nyc-taxi-data).\n",
    "* [TED Talks](https://www.ted.com/talks) for examples of 10 minutes talks.\n",
    "\n",
    "\n",
    "** NOTE **\n",
    "* Please don't forget to save the notebook frequently when working in Jupyter Notebook, otherwise the changes you made can be lost.\n",
    "\n",
    "*----------------------"
   ]
  },
  {
   "cell_type": "markdown",
   "metadata": {},
   "source": [
    "# Problem: pick a data science problem that you plan to solve using Uber/Taxi Data\n",
    "* The problem should be important and interesting, which has a potential impact in some area.\n",
    "* The problem should be solvable using the data and data science solutions.\n",
    "\n",
    "Please briefly describe in the following cell: what problem are you trying to solve? why this problem is important and interesting?"
   ]
  },
  {
   "cell_type": "markdown",
   "metadata": {
    "collapsed": true
   },
   "source": [
    "* Uber and its drivers would like to increase their revenue generation and meet their customers expectations of Uber availability. \n",
    "* The project aims to use Uber/Taxi pickup location data to analyze the most popular areas in NYC where drivers could have a larger chance to business opportunity.\n",
    "\n",
    "\n",
    "\n",
    "\n",
    "\n",
    "\n",
    "\n",
    "\n",
    "\n",
    "\n",
    "\n",
    "\n",
    "\n",
    "\n",
    "\n",
    "\n",
    "\n",
    "\n",
    "\n",
    "\n",
    "\n",
    "\n"
   ]
  },
  {
   "cell_type": "markdown",
   "metadata": {},
   "source": [
    "# Data Collection/Processing: "
   ]
  },
  {
   "cell_type": "code",
   "execution_count": 1,
   "metadata": {},
   "outputs": [
    {
     "name": "stdout",
     "output_type": "stream",
     "text": [
      "Completed loading data\n"
     ]
    }
   ],
   "source": [
    "#----------------------------------------------\n",
    "# Your code starts here\n",
    "#   Please add comments or text cells in between to explain the general idea of each block of the code.\n",
    "#   Please feel free to add more cells below this cell if necessary\n",
    "\n",
    "#Import the data\n",
    "import pandas as pd\n",
    "import pandasql\n",
    "from pandasql import sqldf\n",
    "import csv\n",
    "\n",
    "#setup to use SQL for querying\n",
    "pysqldf = lambda q: sqldf(q, globals())\n",
    "\n",
    "#Load taxi zone lookup info\n",
    "filename = 'taxi+_zone_lookup.csv'\n",
    "TZL =pd.read_csv(filename, sep=',')\n",
    "\n",
    "#Load taxi and Uber trips\n",
    "\n",
    "FTD201701 = pd.read_csv('fhv_tripdata_2017-01.csv', sep=',', nrows = 200000)\n",
    "FTD201702 = pd.read_csv('fhv_tripdata_2017-02.csv', sep=',', nrows = 200000)\n",
    "FTD = pd.read_csv('fhv_tripdata_2016-12.csv', sep=',', nrows = 200000, parse_dates = True)\n",
    "\n",
    "#add identifying ride type to each file\n",
    "FTD = FTD.assign(ride='FTD')\n",
    "FTD201701 = FTD201701.assign(ride='FTD')\n",
    "FTD201702 = FTD201702.assign(ride='FTD')\n",
    "\n",
    "\n",
    "print 'Completed loading data'"
   ]
  },
  {
   "cell_type": "code",
   "execution_count": 2,
   "metadata": {},
   "outputs": [],
   "source": [
    "#rename columns so they are easier to query\n",
    "xFTD = FTD.rename(index=str,columns={'Pickup_date': 'PUDat',\n",
    "                                'Dispatching_base_num': 'VenID',\n",
    "                                'locationID': 'PUID'})\n",
    "xFTD201701 = FTD201701.rename(index=str,columns={'Pickup_DateTime': 'PUDat',\n",
    "                                'Dispatching_base_num': 'VenID',\n",
    "                                'PUlocationID': 'PUID'})\n",
    "xFTD201702 = FTD201702.rename(index=str,columns={'Pickup_DateTime': 'PUDat',\n",
    "                                'Dispatching_base_num': 'VenID',\n",
    "                                'PUlocationID': 'PUID'})\n"
   ]
  },
  {
   "cell_type": "code",
   "execution_count": 3,
   "metadata": {},
   "outputs": [],
   "source": [
    "#Make the dataset date/time friendly\n",
    "xFTD['PUDat'] =  pd.to_datetime(xFTD['PUDat'])\n",
    "xFTD201701['PUDat'] =  pd.to_datetime(xFTD201701['PUDat'])\n",
    "xFTD201702['PUDat'] =  pd.to_datetime(xFTD201702['PUDat'])\n"
   ]
  },
  {
   "cell_type": "code",
   "execution_count": 4,
   "metadata": {},
   "outputs": [],
   "source": [
    "#extract the hour from the Pickup datetime stamp as a string so that the query can group on it\n",
    "def hr_func(ts):\n",
    "    return str(ts.hour)\n",
    "\n",
    "xFTD['PUhour'] = xFTD['PUDat'].apply(hr_func)\n",
    "xFTD201701['PUhour'] = xFTD201701['PUDat'].apply(hr_func)\n",
    "xFTD201702['PUhour'] = xFTD201702['PUDat'].apply(hr_func)"
   ]
  },
  {
   "cell_type": "code",
   "execution_count": 5,
   "metadata": {},
   "outputs": [],
   "source": [
    "#Summarize FTD data and output to csv file\n",
    "q = \"\"\"SELECT ride, VenID, PUID, PUhour, count(ride) as 'tot_rides'\n",
    "     FROM\n",
    "        xFTD\n",
    "    group by ride, VenID, PUID, PUhour\n",
    "    ;\"\"\"\n",
    "SumFTD = pysqldf(q)\n",
    "\n",
    "\n",
    "q = \"\"\"SELECT ride, VenID, PUID, PUhour, tot_rides, borough, service_zone\n",
    "     FROM\n",
    "        SumFTD\n",
    "        INNER JOIN\n",
    "        TZL\n",
    "           ON SumFTD.PUID = TZL.LocationID\n",
    "    ;\"\"\"\n",
    "\n",
    "ZoneSumFTD = pysqldf(q)\n",
    "\n",
    "ZoneSumFTD.to_csv('201612_ZoneSumFTD.csv')"
   ]
  },
  {
   "cell_type": "code",
   "execution_count": 6,
   "metadata": {},
   "outputs": [],
   "source": [
    "#Summarize 201701 FTD data and output to csv file\n",
    "\n",
    "\n",
    "q = \"\"\"SELECT *\n",
    "     FROM\n",
    "        xFTD201701\n",
    "        ;\"\"\"\n",
    "test = pysqldf(q)\n",
    "\n",
    "q = \"\"\"SELECT ride, VenID, PUID, PUhour, count(ride) as 'tot_rides'\n",
    "     FROM\n",
    "        xFTD201701\n",
    "    group by ride, VenID, PUID, PUhour\n",
    "    ;\"\"\"\n",
    "SumFTD201701 = pysqldf(q)\n",
    "\n",
    "q = \"\"\"SELECT ride, VenID, PUID, PUhour, tot_rides, borough, service_zone\n",
    "     FROM\n",
    "        SumFTD201701\n",
    "        INNER JOIN\n",
    "        TZL\n",
    "           ON SumFTD201701.PUID = TZL.LocationID\n",
    "    ;\"\"\"\n",
    "\n",
    "ZoneSumFTD201701 = pysqldf(q)\n",
    "ZoneSumFTD201701.to_csv('201701_ZoneSumFTD.csv')"
   ]
  },
  {
   "cell_type": "code",
   "execution_count": 7,
   "metadata": {},
   "outputs": [],
   "source": [
    "#Summarize 201702 FTD data and output to csv file\n",
    "q = \"\"\"SELECT ride, VenID, PUID, PUhour, count(ride) as 'tot_rides'\n",
    "     FROM\n",
    "        xFTD201702\n",
    "    group by ride, VenID, PUID, PUhour\n",
    "    ;\"\"\"\n",
    "SumFTD201702 = pysqldf(q)\n",
    "\n",
    "q = \"\"\"SELECT ride, VenID, PUID, PUhour, tot_rides, borough, service_zone\n",
    "     FROM\n",
    "        SumFTD201702\n",
    "        INNER JOIN\n",
    "        TZL\n",
    "           ON SumFTD201702.PUID = TZL.LocationID\n",
    "    ;\"\"\"\n",
    "\n",
    "ZoneSumFTD201702 = pysqldf(q)\n",
    "\n",
    "ZoneSumFTD201702.to_csv('201702_ZoneSumFTD.csv')"
   ]
  },
  {
   "cell_type": "code",
   "execution_count": 8,
   "metadata": {},
   "outputs": [],
   "source": [
    "q = \"\"\"SELECT ride, VenID, PUID, PUhour, count(ride) as 'tot_rides'\n",
    "     FROM\n",
    "        xFTD201702\n",
    "    group by ride, VenID, PUID, PUhour\n",
    "    ;\"\"\"\n",
    "CTFTD201702 = pysqldf(q)\n"
   ]
  },
  {
   "cell_type": "markdown",
   "metadata": {},
   "source": [
    "# Data Exploration: Exploring the Uber/Taxi Dataset\n",
    "\n",
    "** plot the spatial distribution of the pickup locations of 5000 Uber trips** \n",
    "* collect a set of 5000 Uber trips\n",
    "* plot the distribution of the pickup locations using a scatter plot figure."
   ]
  },
  {
   "cell_type": "code",
   "execution_count": 1,
   "metadata": {},
   "outputs": [
    {
     "data": {
      "image/png": "[encoded data removed]",
      "text/plain": [
       "<matplotlib.figure.Figure at 0x10fd4f810>"
      ]
     },
     "metadata": {},
     "output_type": "display_data"
    }
   ],
   "source": [
    "# The scatter plot of 5000 uber trip pickup locations on NYC area\n",
    "# Data used to generate the plot is of Uber data in Sept 2014\n",
    "\n",
    "\n",
    "import matplotlib.pyplot as plt\n",
    "import pandas as pd\n",
    "\n",
    "uber_data = pd.read_csv(\"./uber_sep14.csv\")\n",
    "plt.figure(figsize=(10, 10))\n",
    "plt.scatter(uber_data.Lon[:5000], uber_data.Lat[:5000], alpha=0.2)\n",
    "plt.xlabel(\"Longitude\")\n",
    "plt.ylabel(\"Latitude\")\n",
    "plt.title(\"Uber Sep 14 Pickup Locations\")\n",
    "plt.show()"
   ]
  },
  {
   "cell_type": "code",
   "execution_count": 10,
   "metadata": {
    "collapsed": true
   },
   "outputs": [],
   "source": [
    "# Your code starts here\n",
    "#   Please add comments or text cells in between to explain the general idea of each block of the code.\n",
    "#   Please feel free to add more cells below this cell if necessary\n",
    "\n",
    "\n",
    "# For the real problem, uber data set at Jan 2017 and Feb 2017 are used\n",
    "import matplotlib.pyplot as plt\n",
    "import pandas as pd\n",
    "\n",
    "uber_2017_01 = pd.read_csv(\"./fhv_tripdata_2017-01.csv\")\n",
    "\n"
   ]
  },
  {
   "cell_type": "code",
   "execution_count": 18,
   "metadata": {
    "collapsed": true
   },
   "outputs": [],
   "source": [
    "# Drop null values where pickup location ids are missing\n",
    "\n",
    "uber_2017_01_clear = uber_2017_01.dropna(axis=0, how='all', subset=['PUlocationID'])"
   ]
  },
  {
   "cell_type": "code",
   "execution_count": 55,
   "metadata": {
    "collapsed": true
   },
   "outputs": [],
   "source": [
    "uber_2017_01_clear = uber_2017_01_clear.drop(['DropOff_datetime', 'DOlocationID'], axis=1)"
   ]
  },
  {
   "cell_type": "code",
   "execution_count": 63,
   "metadata": {
    "collapsed": true
   },
   "outputs": [],
   "source": [
    "uber_2017_01_clear['Pickup_DateTime'] = pd.to_datetime(uber_2017_01_clear['Pickup_DateTime'])\n",
    "uber_2017_01_clear['hour'] = [x.hour for x in uber_2017_01_clear['Pickup_DateTime']]"
   ]
  },
  {
   "cell_type": "code",
   "execution_count": 23,
   "metadata": {
    "collapsed": true
   },
   "outputs": [],
   "source": [
    "taxi_zone_lookup = pd.read_csv(\"./taxi_zone_lookup.csv\")"
   ]
  },
  {
   "cell_type": "code",
   "execution_count": 65,
   "metadata": {
    "collapsed": true
   },
   "outputs": [],
   "source": [
    "pick_up_freq = uber_2017_01_clear.merge(taxi_zone_lookup[['location_id', 'borough']], \n",
    "                                        how='left', \n",
    "                                        right_on='location_id', \n",
    "                                        left_on='PUlocationID')\n",
    "\n"
   ]
  },
  {
   "cell_type": "code",
   "execution_count": 78,
   "metadata": {
    "collapsed": true
   },
   "outputs": [],
   "source": [
    "result_uber_2017_01 = pick_up_freq.groupby(['hour', 'borough'])['Dispatching_base_num'].count().to_frame('Frequency')"
   ]
  },
  {
   "cell_type": "code",
   "execution_count": 80,
   "metadata": {
    "collapsed": true
   },
   "outputs": [],
   "source": [
    "result_uber_2017_01.reset_index(inplace=True)"
   ]
  },
  {
   "cell_type": "code",
   "execution_count": 82,
   "metadata": {
    "collapsed": true
   },
   "outputs": [],
   "source": [
    "result_uber_2017_01.to_csv('result_uber_2017_01.csv')"
   ]
  },
  {
   "cell_type": "code",
   "execution_count": 83,
   "metadata": {
    "collapsed": true
   },
   "outputs": [],
   "source": [
    "uber_2017_02 = pd.read_csv(\"./fhv_tripdata_2017-02.csv\")\n",
    "uber_2017_02_clear = uber_2017_02.dropna(axis=0, how='all', subset=['PUlocationID'])\n",
    "uber_2017_02_clear = uber_2017_02_clear.drop(['DropOff_datetime', 'DOlocationID'], axis=1)\n",
    "\n"
   ]
  },
  {
   "cell_type": "code",
   "execution_count": 84,
   "metadata": {
    "collapsed": true
   },
   "outputs": [],
   "source": [
    "uber_2017_02_clear['Pickup_DateTime'] = pd.to_datetime(uber_2017_02_clear['Pickup_DateTime'])\n",
    "uber_2017_02_clear['hour'] = [x.hour for x in uber_2017_02_clear['Pickup_DateTime']]\n",
    "pick_up_freq2 = uber_2017_02_clear.merge(taxi_zone_lookup[['location_id', 'borough']], \n",
    "                                        how='left', \n",
    "                                        right_on='location_id', \n",
    "                                        left_on='PUlocationID')"
   ]
  },
  {
   "cell_type": "code",
   "execution_count": 89,
   "metadata": {
    "collapsed": true
   },
   "outputs": [],
   "source": [
    "result_uber_2017_02 = pick_up_freq2.groupby(['hour', 'borough'])['Dispatching_base_num'].count().to_frame('Frequency')"
   ]
  },
  {
   "cell_type": "code",
   "execution_count": 90,
   "metadata": {
    "collapsed": true
   },
   "outputs": [],
   "source": [
    "result_uber_2017_02.reset_index(inplace=True)\n",
    "result_uber_2017_02.to_csv('result_uber_2017_02.csv')"
   ]
  },
  {
   "cell_type": "code",
   "execution_count": 49,
   "metadata": {},
   "outputs": [
    {
     "data": {
      "image/png": "[encoded data removed]",
      "text/plain": [
       "<matplotlib.figure.Figure at 0x114eec390>"
      ]
     },
     "metadata": {},
     "output_type": "display_data"
    }
   ],
   "source": [
    "# plt.figure(figsize=(10, 10))\n",
    "# plt.bar(result_sort.index, result_sort['frequency'])\n",
    "# plt.xlabel(\"Zone\")\n",
    "# plt.ylabel(\"Frequency\")\n",
    "# plt.title(\"Uber Jan 17 Pickup Frequency\")\n",
    "# plt.show()"
   ]
  },
  {
   "cell_type": "markdown",
   "metadata": {},
   "source": [
    "# The Solution: implement a data science solution to the problem you are trying to solve."
   ]
  },
  {
   "cell_type": "markdown",
   "metadata": {},
   "source": [
    "Briefly describe the idea of your solution to the problem in the following cell:"
   ]
  },
  {
   "cell_type": "markdown",
   "metadata": {
    "collapsed": true
   },
   "source": [
    "* Predict the distribution of Uber pickups by month, time of day,  and location time can effectively guide Uber to distribute drivers optimally.\n",
    "* Use 1 month as a “training” set\n",
    "* Use another month(s) as test set(s)\n",
    "\n",
    "\n",
    "\n",
    "\n",
    "\n",
    "\n",
    "\n",
    "\n",
    "\n",
    "\n"
   ]
  },
  {
   "cell_type": "markdown",
   "metadata": {},
   "source": [
    "Write codes to implement the solution in python:"
   ]
  },
  {
   "cell_type": "code",
   "execution_count": 9,
   "metadata": {},
   "outputs": [
    {
     "name": "stdout",
     "output_type": "stream",
     "text": [
      "<class 'pandas.core.frame.DataFrame'>\n",
      "[u'ride', u'VenID', u'PUID', u'PUhour', u'tot_rides', u'Borough', u'service_zone']\n"
     ]
    }
   ],
   "source": [
    "# Your code starts here\n",
    "#   Please add comments or text cells in between to explain the general idea of each block of the code.\n",
    "#   Please feel free to add more cells below this cell if necessary\n",
    "\n",
    "print type(ZoneSumFTD201702)\n",
    "print list(ZoneSumFTD201702)"
   ]
  },
  {
   "cell_type": "code",
   "execution_count": 10,
   "metadata": {},
   "outputs": [
    {
     "name": "stdout",
     "output_type": "stream",
     "text": [
      "Borough  Bronx  Brooklyn  EWR  Manhattan  Queens  Staten Island  Unknown\n",
      "PUhour                                                                  \n",
      "0          276       639    0       1091     430             17       10\n",
      "1          183       529    0        826     299             16        6\n",
      "10         372       964    1       1310     677             69       17\n",
      "11         341       891    1       1269     619             62       18\n",
      "12         355       892    0       1282     644             61       19\n",
      "13         364       873    0       1312     648             60       11\n",
      "14          15        54    0          6      29              0        4\n",
      "2          109       372    0        653     238             13        5\n",
      "3          106       310    0        502     224             10        6\n",
      "4          136       346    0        613     302             13        9\n",
      "5          183       531    0        845     416             18       15\n",
      "6          318       770    1       1171     566             36       14\n",
      "7          479       986    0       1428     795             70       17\n",
      "8          543      1137    0       1531     887             84       23\n",
      "9          452      1063    1       1467     756             81       20 \n",
      "\n",
      "Borough  Bronx  Brooklyn  EWR  Manhattan  Queens  Staten Island  Unknown\n",
      "PUhour                                                                  \n",
      "0          484      1246    0       1779     900             76       23\n",
      "1          510      1350    1       1946     978             78       29\n",
      "2          520      1344    1       1945     972             80       29\n",
      "3          497      1296    2       1857     918             76       25\n",
      "4          461      1114    0       1619     806             79       21\n",
      "5          370       913    0       1281     642             46       13\n",
      "6          291       715    0       1042     513             46       12\n"
     ]
    }
   ],
   "source": [
    "#Summarize pickup hours by borough for Jan (train) and Feb 2017 (test)\n",
    "HrsByBorough201702 = pd.crosstab(ZoneSumFTD201702.PUhour, ZoneSumFTD201702.Borough)\n",
    "HrsByBorough201701 = pd.crosstab(ZoneSumFTD201701.PUhour, ZoneSumFTD201702.Borough)\n",
    "print HrsByBorough201702, '\\n'\n",
    "print HrsByBorough201701\n",
    "\n",
    "##look for an increase in volume from hour to hour by location"
   ]
  },
  {
   "cell_type": "markdown",
   "metadata": {},
   "source": [
    "# Results: summarize and visualize the results discovered from the analysis\n",
    "\n",
    "Please use figures, tables, or videos to communicate the results with the audience.\n"
   ]
  },
  {
   "cell_type": "code",
   "execution_count": 11,
   "metadata": {},
   "outputs": [],
   "source": [
    "# Your code starts here\n",
    "#   Please add comments or text cells in between to explain the general idea of each block of the code.\n",
    "#   Please feel free to add more cells below this cell if necessary\n",
    "\n",
    "\n",
    "# Drawing the heatmap by using Google Cloud Platform\n",
    "\n",
    "# function to get the latitude and longitude from location name\n",
    "import urllib  \n",
    "import json\n",
    "\n",
    "# please use your own api key, which can apply on the Google Cloud Platform Website https://cloud.google.com/\n",
    "key = \"AIxxxxxxxxxxxxxxxxxxxxxxxxxxxxxxx\"\n",
    "  \n",
    "def getGeoForAddress(address):   \n",
    "    addressUrl = \"https://maps.googleapis.com/maps/api/geocode/json?address=%s&key=%s\" % (address, key)\n",
    "    req = urllib.urlopen(addressUrl)\n",
    "    response = req.read()\n",
    "#     print response\n",
    "    responseJson = json.loads(response)\n",
    "    lat = responseJson.get('results')[0]['geometry']['location']['lat']  \n",
    "    lng = responseJson.get('results')[0]['geometry']['location']['lng']  \n",
    "#     print(address + ' is at %f, %f'  %(lat, lng))  \n",
    "    return [lat, lng]"
   ]
  },
  {
   "cell_type": "code",
   "execution_count": 12,
   "metadata": {},
   "outputs": [],
   "source": [
    "#Summarize 201702 data and output to csv file by zone\n",
    "q = \"\"\"SELECT ride, VenID, PUID, PUhour, count(ride) as 'tot_rides'\n",
    "     FROM\n",
    "        xFTD201702\n",
    "    group by ride, VenID, PUID, PUhour\n",
    "    ;\"\"\"\n",
    "SumFTD201702_byzone = pysqldf(q)\n",
    "\n",
    "q = \"\"\"SELECT ride, VenID, PUID, PUhour, tot_rides, Zone, service_zone\n",
    "     FROM\n",
    "        SumFTD201702_byzone\n",
    "        INNER JOIN\n",
    "        TZL\n",
    "           ON SumFTD201702_byzone.PUID = TZL.LocationID\n",
    "    ;\"\"\"\n",
    "\n",
    "ZoneSumFTD201702_byzone = pysqldf(q)\n",
    "ZoneSumFTD201702_byzone.to_csv('201702_ZoneSumFTD_byZone.csv')"
   ]
  },
  {
   "cell_type": "code",
   "execution_count": 13,
   "metadata": {},
   "outputs": [
    {
     "name": "stdout",
     "output_type": "stream",
     "text": [
      "<class 'pandas.core.frame.DataFrame'>\n",
      "[u'ride', u'VenID', u'PUID', u'PUhour', u'tot_rides', u'Zone', u'service_zone']\n"
     ]
    }
   ],
   "source": [
    "print type(ZoneSumFTD201702_byzone)\n",
    "print list(ZoneSumFTD201702_byzone)"
   ]
  },
  {
   "cell_type": "code",
   "execution_count": 1,
   "metadata": {},
   "outputs": [
    {
     "name": "stdout",
     "output_type": "stream",
     "text": [
      "261\n"
     ]
    }
   ],
   "source": [
    "# Get Location Latitude and Longitude\n",
    "Zone_Loc = {}\n",
    "\n",
    "for item in TZL.Zone:\n",
    "    if item != \"Queensbridge/Ravenswood\" and item != \"NA\" and item != \"NV\":\n",
    "        Zone_Loc[item] = getGeoForAddress(item)  \n",
    "\n",
    "print len(Zone_Loc)"
   ]
  },
  {
   "cell_type": "code",
   "execution_count": 2,
   "metadata": {},
   "outputs": [
    {
     "name": "stdout",
     "output_type": "stream",
     "text": [
      "Location Information Output Succeed!\n"
     ]
    }
   ],
   "source": [
    "# Write the location Latitude and Longitude into the file\n",
    "with open('Location.csv', 'wb') as csv_file:\n",
    "    writer = csv.writer(csv_file)\n",
    "    for key, value in Zone_Loc.items():\n",
    "        writer.writerow([key, value[0],value[1]])\n",
    "\n",
    "print(\"Location Information Output Succeed!\")"
   ]
  },
  {
   "cell_type": "code",
   "execution_count": 3,
   "metadata": {},
   "outputs": [
    {
     "name": "stdout",
     "output_type": "stream",
     "text": [
      "Read Location: Done\n"
     ]
    }
   ],
   "source": [
    "# Read the location file\n",
    "filename = 'Location.csv'\n",
    "Loc =pd.read_csv(filename, sep=',')\n",
    "\n",
    "print(\"Read Location: Done\")"
   ]
  },
  {
   "cell_type": "code",
   "execution_count": 5,
   "metadata": {},
   "outputs": [
    {
     "name": "stdout",
     "output_type": "stream",
     "text": [
      "The Zone and Loc information of all PUhour in 201702 is exported Successfully!\n"
     ]
    }
   ],
   "source": [
    "# Export the zone and Loc Information to the file\n",
    "q = \"\"\"SELECT ride, VenID, PUID, PUhour, tot_rides, Zone, service_zone\n",
    "     FROM\n",
    "        SumFTD201702_byzone\n",
    "        INNER JOIN\n",
    "        TZL\n",
    "           ON SumFTD201702_byzone.PUID = TZL.LocationID\n",
    "    ;\"\"\"\n",
    "\n",
    "ZoneSumFTD201702_byzone_all = pysqldf(q)\n",
    "\n",
    "q = \"\"\"SELECT Loc.Zone, Loc.Lat, Loc.Lng\n",
    "     FROM\n",
    "        ZoneSumFTD201702_byzone_all, Loc\n",
    "    WHERE\n",
    "        ZoneSumFTD201702_byzone_all.Zone = Loc.Zone\n",
    "    ;\"\"\"\n",
    "\n",
    "LocSumFTD201702_byzone_all = pysqldf(q)\n",
    "LocSumFTD201702_byzone_all.to_csv('LocSumFTD201702_byzone_all.csv')\n",
    "\n",
    "print (\"The Zone and Loc information of all PUhour in 201702 is exported Successfully!\")"
   ]
  },
  {
   "cell_type": "code",
   "execution_count": 6,
   "metadata": {},
   "outputs": [
    {
     "name": "stdout",
     "output_type": "stream",
     "text": [
      "Map HTML is exported successfully!\n"
     ]
    }
   ],
   "source": [
    "# draw the heatmap using the Google Cloud Platform\n",
    "import gmplot\n",
    "\n",
    "filename = 'LocSumFTD201702_byzone_all.csv'\n",
    "csvfile = file(filename, 'rb')\n",
    "reader = csv.reader(csvfile)\n",
    "\n",
    "Lats = []\n",
    "Lngs = []\n",
    "ct = 0\n",
    "for line in reader:\n",
    "    if ct != 0:\n",
    "        Lats.append(float(line[2]))\n",
    "        Lngs.append(float(line[3]))\n",
    "#         print line[2]\n",
    "    ct+=1\n",
    "\n",
    "\n",
    "NY = getGeoForAddress(\"New York\")\n",
    "gmap = gmplot.GoogleMapPlotter(NY[0], NY[1], 11)\n",
    "gmap.heatmap(Lats, Lngs, threshold=1, radius = 120, opacity = 0.9)\n",
    "\n",
    "gmap.draw(\"new york_201702.html\")\n",
    "print (\"Map HTML is exported successfully!\")"
   ]
  },
  {
   "cell_type": "markdown",
   "metadata": {},
   "source": [
    "*-----------------\n",
    "# Done\n",
    "\n",
    "All set! \n",
    "\n",
    "** What do you need to submit?**\n",
    "\n",
    "* **Notebook File**: Save this Jupyter notebook, and find the notebook file in your folder (for example, \"filename.ipynb\"). This is the file you need to submit. Please make sure all the plotted tables and figures are in the notebook. If you used \"jupyter notebook --pylab=inline\" to open the notebook, all the figures and tables should have shown up in the notebook.\n",
    "\n",
    "* **PPT Slides**: please prepare PPT slides (for 10 minutes' talk) to present about the case study . Each team present their case studies in class for 10 minutes.\n",
    "\n",
    "Please compress all the files in a zipped file.\n",
    "\n",
    "\n",
    "** How to submit: **\n",
    "\n",
    "        Please submit through Canvas, in the Assignment \"Case Study 4\".\n",
    "        \n",
    "** Note: Each team only needs to submit one submission in Canvas **"
   ]
  },
  {
   "cell_type": "markdown",
   "metadata": {},
   "source": [
    "\n",
    "# Peer-Review Grading Template:\n",
    "\n",
    "** Total Points: (100 points) ** Please don't worry about the absolute scores, we will rescale the final grading according to the performance of all teams in the class.\n",
    "\n",
    "Please add an \"**X**\" mark in front of your rating: \n",
    "\n",
    "For example:\n",
    "\n",
    "*2: bad*\n",
    "          \n",
    "**X** *3: good*\n",
    "    \n",
    "*4: perfect*\n",
    "\n",
    "\n",
    "    ---------------------------------\n",
    "    The Problem: \n",
    "    ---------------------------------\n",
    "    \n",
    "    1. (10 points) how well did the team describe the problem they are trying to solve using the data? \n",
    "       0: not clear\n",
    "       2: I can barely understand the problem\n",
    "       4: okay, can be improved\n",
    "       6: good, but can be improved\n",
    "       8: very good\n",
    "       10: crystal clear\n",
    "    \n",
    "    2. (10 points) do you think the problem is important or has a potential impact?\n",
    "        0: not important at all\n",
    "        2: not sure if it is important\n",
    "        4: seems important, but not clear\n",
    "        6: interesting problem\n",
    "        8: an important problem, which I want to know the answer myself\n",
    "       10: very important, I would be happy invest money on a project like this.\n",
    "    \n",
    "    ----------------------------------\n",
    "    Data Collection and Processing:\n",
    "    ----------------------------------\n",
    "    \n",
    "    3. (10 points) Do you think the data collected/processed are relevant and sufficient for solving the above problem? \n",
    "       0: not clear\n",
    "       2: I can barely understand what data they are trying to collect/process\n",
    "       4: I can barely understand why the data is relevant to the problem\n",
    "       6: the data are relevant to the problem, but better data can be collected\n",
    "       8: the data collected are relevant and at a proper scale\n",
    "      10: the data are properly collected and they are sufficient\n",
    "\n",
    "    -----------------------------------\n",
    "    Data Exploration:\n",
    "    -----------------------------------\n",
    "    4. How well did the team solve the following task:\n",
    "    \n",
    "    (1) plot the spatial distribution of the pickup locations of 5000 Uber trips (10 points):\n",
    "       0: missing answer\n",
    "       4: okay, but with major problems\n",
    "       7: good, but with minor problems\n",
    "      10: perfect\n",
    "    \n",
    "\n",
    "    -----------------------------------\n",
    "    The Solution\n",
    "    -----------------------------------\n",
    "    5.  how well did the team describe the solution they used to solve the problem? (10 points)\n",
    "       0: not clear\n",
    "       2: I can barely understand\n",
    "       4: okay, can be improved\n",
    "       6: good, but can be improved\n",
    "       8: very good\n",
    "       10: crystal clear\n",
    "       \n",
    "    6. how well is the solution in solving the problem? (10 points)\n",
    "       0: not relevant\n",
    "       2: barely relevant to the problem\n",
    "       4: okay solution, but there is an easier solution.\n",
    "       6: good, but can be improved\n",
    "       8: very good, but solution is simple/old\n",
    "       10: innovative and technically sound\n",
    "       \n",
    "    7. how well did the team implement the solution in python? (10 points)\n",
    "       0: the code is not relevant to the solution proposed\n",
    "       2: the code is barely understandable, but not relevant\n",
    "       4: okay, the code is clear but incorrect\n",
    "       6: good, the code is correct, but with major errors\n",
    "       8: very good, the code is correct, but with minor errors\n",
    "      10: perfect \n",
    "   \n",
    "    -----------------------------------\n",
    "    The Results\n",
    "    -----------------------------------\n",
    "     8.  How well did the team present the results they found in the data? (10 points)\n",
    "       0: not clear\n",
    "       2: I can barely understand\n",
    "       4: okay, can be improved\n",
    "       6: good, but can be improved\n",
    "       8: very good\n",
    "      10: crystal clear\n",
    "       \n",
    "     9.  How do you think of the results they found in the data?  (5 points)\n",
    "       0: not clear\n",
    "       1: likely to be wrong\n",
    "       2: okay, maybe wrong\n",
    "       3: good, but can be improved\n",
    "       4: make sense, but not interesting\n",
    "       5: make sense and very interesting\n",
    "     \n",
    "    -----------------------------------\n",
    "    The Presentation\n",
    "    -----------------------------------\n",
    "    10. How all the different parts (data, problem, solution, result) fit together as a coherent story?  \n",
    "       0: they are irrelevant\n",
    "       1: I can barely understand how they are related to each other\n",
    "       2: okay, the problem is good, but the solution doesn't match well, or the problem is not solvable.\n",
    "       3: good, but the results don't make much sense in the context\n",
    "       4: very good fit, but not exciting (the storyline can be improved/polished)\n",
    "       5: a perfect story\n",
    "      \n",
    "    11. Did the presenter make good use of the 10 minutes for presentation?  \n",
    "       0: the team didn't present\n",
    "       1: bad, barely finished a small part of the talk\n",
    "       2: okay, barely finished most parts of the talk.\n",
    "       3: good, finished all parts of the talk, but some part is rushed\n",
    "       4: very good, but the allocation of time on different parts can be improved.\n",
    "       5: perfect timing and good use of time      \n",
    "\n",
    "    12. How well do you think of the presentation (overall quality)?  \n",
    "       0: the team didn't present\n",
    "       1: bad\n",
    "       2: okay\n",
    "       3: good\n",
    "       4: very good\n",
    "       5: perfect\n",
    "\n",
    "\n",
    "    -----------------------------------\n",
    "    Overall: \n",
    "    -----------------------------------\n",
    "    13. How many points out of the 100 do you give to this project in total?  Please don't worry about the absolute scores, we will rescale the final grading according to the performance of all teams in the class.\n",
    "    Total score:\n",
    "    \n",
    "    14. What are the strengths of this project? Briefly, list up to 3 strengths.\n",
    "       1: \n",
    "       2:\n",
    "       3:\n",
    "    \n",
    "    15. What are the weaknesses of this project? Briefly, list up to 3 weaknesses.\n",
    "       1:\n",
    "       2:\n",
    "       3:\n",
    "    \n",
    "    16. Detailed comments and suggestions. What suggestions do you have for this project to improve its quality further.\n",
    "    \n",
    "    \n",
    "    \n",
    "\n",
    "    ---------------------------------\n",
    "    Your Vote: \n",
    "    ---------------------------------\n",
    "    1. [Overall Quality] Between the two submissions that you are reviewing, which team would you vote for a better score?  (5 bonus points)\n",
    "        0: I vote the other team is better than this team\n",
    "        5: I vote this team is better than the other team \n",
    "        \n",
    "    2. [Presentation] Among all the teams in the presentation, which team do you think deserves the best presentation award for this case study?  \n",
    "        1: Team 1\n",
    "        2: Team 2\n",
    "        3: Team 3\n",
    "        4: Team 4\n",
    "        5: Team 5\n",
    "        6: Team 6\n",
    "        7: Team 7\n",
    "        8: Team 8\n",
    "        9: Team 9\n",
    "\n",
    "\n"
   ]
  }
 ],
 "metadata": {
  "kernelspec": {
   "display_name": "Python 2",
   "language": "python",
   "name": "python2"
  },
  "language_info": {
   "codemirror_mode": {
    "name": "ipython",
    "version": 2
   },
   "file_extension": ".py",
   "mimetype": "text/x-python",
   "name": "python",
   "nbconvert_exporter": "python",
   "pygments_lexer": "ipython2",
   "version": "2.7.13"
  }
 },
 "nbformat": 4,
 "nbformat_minor": 1
}
